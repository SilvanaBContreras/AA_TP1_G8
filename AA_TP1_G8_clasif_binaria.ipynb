{
  "nbformat": 4,
  "nbformat_minor": 0,
  "metadata": {
    "colab": {
      "provenance": [],
      "toc_visible": true,
      "authorship_tag": "ABX9TyN1P1kN29zf0ERq/8yfSJLG",
      "include_colab_link": true
    },
    "kernelspec": {
      "name": "python3",
      "display_name": "Python 3"
    },
    "language_info": {
      "name": "python"
    }
  },
  "cells": [
    {
      "cell_type": "markdown",
      "metadata": {
        "id": "view-in-github",
        "colab_type": "text"
      },
      "source": [
        "<a href=\"https://colab.research.google.com/github/SilvanaBContreras/AA_TP1_G8/blob/main/AA_TP1_G8_clasif_binaria.ipynb\" target=\"_parent\"><img src=\"https://colab.research.google.com/assets/colab-badge.svg\" alt=\"Open In Colab\"/></a>"
      ]
    },
    {
      "cell_type": "code",
      "execution_count": 1,
      "metadata": {
        "id": "vTFC0A7cMygG"
      },
      "outputs": [],
      "source": [
        "import numpy as np\n",
        "import matplotlib.pyplot as plt\n",
        "import pandas as pd\n",
        "import seaborn as sns"
      ]
    },
    {
      "cell_type": "markdown",
      "source": [
        "# Levanto datos procesados en notebook EDA"
      ],
      "metadata": {
        "id": "WpdjAl1xPU5d"
      }
    },
    {
      "cell_type": "code",
      "source": [
        "URL_BASE = 'https://github.com/SilvanaBContreras/AA_TP1_G8/raw/refs/heads/main/'\n",
        "\n",
        "archivos_a_cargar = {\n",
        "    'X_train_completo.parquet': 'X_train',\n",
        "    'y_train.parquet': 'y_train',\n",
        "    'X_test_completo.parquet': 'X_test',\n",
        "    'y_test.parquet': 'y_test',\n",
        "    'X_train_reducido.parquet': 'X_train_short',\n",
        "    'X_test_reducido.parquet': 'X_test_short',\n",
        "}\n",
        "\n",
        "def cargar_conjunto(nombre_archivo):\n",
        "    \"\"\"Carga un archivo Parquet desde la URL de GitHub.\"\"\"\n",
        "    full_url = URL_BASE + nombre_archivo\n",
        "    data = pd.read_parquet(full_url)\n",
        "\n",
        "    # Si es un DataFrame con una sola columna (que era originalmente una Series 'y'),\n",
        "    # la convertimos de vuelta a Series con .squeeze()\n",
        "    if data.shape[1] == 1:\n",
        "        return data.squeeze()\n",
        "\n",
        "    return data\n",
        "\n",
        "# Crear un diccionario para almacenar todas las variables cargadas\n",
        "variables_cargadas = {}\n",
        "\n",
        "# Cargar y asignar dinámicamente\n",
        "for nombre_archivo, nombre_variable in archivos_a_cargar.items():\n",
        "    datos = cargar_conjunto(nombre_archivo)\n",
        "    variables_cargadas[nombre_variable] = datos\n",
        "    print(f\"✅ Cargado {nombre_archivo} como la variable '{nombre_variable}'\")\n",
        "\n",
        "# Asignar las variables al espacio de nombres de la notebook\n",
        "X_train = variables_cargadas['X_train']\n",
        "y_train = variables_cargadas['y_train']\n",
        "X_test = variables_cargadas['X_test']\n",
        "y_test = variables_cargadas['y_test']\n",
        "X_train_short = variables_cargadas['X_train_short']\n",
        "X_test_short = variables_cargadas['X_test_short']\n",
        "\n",
        "print(\"\\n--- Verificación Final ---\")\n",
        "print(f\"Variable X_train cargada. Dimensiones: {X_train.shape}\")\n",
        "print(f\"Variable X_train_short cargada. Dimensiones: {X_train_short.shape}\")\n",
        "print(\"¡Estás lista para comenzar a entrenar y comparar modelos! 🎉\")"
      ],
      "metadata": {
        "colab": {
          "base_uri": "https://localhost:8080/"
        },
        "id": "OmwS38yNMzbo",
        "outputId": "fdd23252-4a9f-4808-fd3c-95e39105f23d"
      },
      "execution_count": 2,
      "outputs": [
        {
          "output_type": "stream",
          "name": "stdout",
          "text": [
            "✅ Cargado X_train_completo.parquet como la variable 'X_train'\n",
            "✅ Cargado y_train.parquet como la variable 'y_train'\n",
            "✅ Cargado X_test_completo.parquet como la variable 'X_test'\n",
            "✅ Cargado y_test.parquet como la variable 'y_test'\n",
            "✅ Cargado X_train_reducido.parquet como la variable 'X_train_short'\n",
            "✅ Cargado X_test_reducido.parquet como la variable 'X_test_short'\n",
            "\n",
            "--- Verificación Final ---\n",
            "Variable X_train cargada. Dimensiones: (40257, 51)\n",
            "Variable X_train_short cargada. Dimensiones: (40257, 49)\n",
            "¡Estás lista para comenzar a entrenar y comparar modelos! 🎉\n"
          ]
        }
      ]
    },
    {
      "cell_type": "code",
      "source": [
        "print(\"Dimensiones del conjunto de características (X):\")\n",
        "print(f\"X_train: {X_train.shape}\")\n",
        "print(\"\\nDimensiones del conjunto de características (X) sin correlacionadas:\")\n",
        "print(f\"X_train_short: {X_train_short.shape}\")\n",
        "print(\"\\nDimensiones de la variable objetivo (y):\")\n",
        "print(f\"X_test: {X_test.shape}\")\n",
        "print(\"\\nDimensiones de la variable objetivo (y) sin correlaciones:\")\n",
        "print(f\"X_test_short: {X_test_short.shape}\")\n",
        "print(\"\\nDimensiones de la variable objetivo (y):\")\n",
        "print(f\"y_train: {y_train.shape}\")\n",
        "print(f\"y_test: {y_test.shape}\")"
      ],
      "metadata": {
        "colab": {
          "base_uri": "https://localhost:8080/"
        },
        "id": "b8iLtWRpNIRC",
        "outputId": "11b77d99-f266-418b-b1f8-a27adc445d85"
      },
      "execution_count": 3,
      "outputs": [
        {
          "output_type": "stream",
          "name": "stdout",
          "text": [
            "Dimensiones del conjunto de características (X):\n",
            "X_train: (40257, 51)\n",
            "\n",
            "Dimensiones del conjunto de características (X) sin correlacionadas:\n",
            "X_train_short: (40257, 49)\n",
            "\n",
            "Dimensiones de la variable objetivo (y):\n",
            "X_test: (17253, 51)\n",
            "\n",
            "Dimensiones de la variable objetivo (y) sin correlaciones:\n",
            "X_test_short: (17253, 49)\n",
            "\n",
            "Dimensiones de la variable objetivo (y):\n",
            "y_train: (40257,)\n",
            "y_test: (17253,)\n"
          ]
        }
      ]
    },
    {
      "cell_type": "markdown",
      "source": [
        "# Regresión logística con correl"
      ],
      "metadata": {
        "id": "ESGk78WQPeAP"
      }
    },
    {
      "cell_type": "code",
      "source": [
        "from sklearn.linear_model import LogisticRegression\n",
        "from sklearn.metrics import accuracy_score, recall_score, precision_score, f1_score, \\\n",
        "                            confusion_matrix, roc_auc_score\n",
        "\n",
        "model = LogisticRegression(penalty=None, max_iter=5000)\n",
        "\n",
        "model.fit(X_train, y_train)\n",
        "\n",
        "y_pred = model.predict(X_test)\n",
        "\n",
        "# Predicción de probabilidades para la clase positiva (necesaria para AUC-ROC)\n",
        "y_pred_proba = model.predict_proba(X_test)[:, 1]\n",
        "\n",
        "\n",
        "accuracy = accuracy_score(y_test, y_pred)\n",
        "recall = recall_score(y_test, y_pred)\n",
        "precision = precision_score(y_test, y_pred)\n",
        "f1 = f1_score(y_test, y_pred)\n",
        "\n",
        "# Matriz de Confusión (usando y_pred)\n",
        "conf_matrix = confusion_matrix(y_test, y_pred)\n",
        "\n",
        "# Métrica de Probabilidad (usando y_pred_proba)\n",
        "auc_roc = roc_auc_score(y_test, y_pred_proba)\n",
        "\n",
        "print(\"--- Evaluación del Modelo ---\")\n",
        "print(f\"Accuracy de la clasificación: {accuracy:.4f}\")\n",
        "print(f\"Recall de la clasificación: {recall:.4f}\")\n",
        "print(f\"Precisión de la clasificación: {precision:.4f}\")\n",
        "print(f\"F1-score de la clasificación: {f1:.4f}\")\n",
        "print(f\"AUC-ROC de la clasificación: {auc_roc:.4f} \\n(Métrica clave para desbalance)\")\n",
        "\n",
        "print(\"\\n--- Matriz de Confusión ---\")\n",
        "print(\"La matriz se interpreta como: \\n[[TN, FP], \\n[FN, TP]]\")\n",
        "print(conf_matrix)\n"
      ],
      "metadata": {
        "colab": {
          "base_uri": "https://localhost:8080/"
        },
        "id": "Eq5e-PVoNyLn",
        "outputId": "e9b87000-aa26-4150-e6f7-970fa21cd602"
      },
      "execution_count": 5,
      "outputs": [
        {
          "output_type": "stream",
          "name": "stdout",
          "text": [
            "--- Evaluación del Modelo ---\n",
            "Accuracy de la clasificación: 0.8560\n",
            "Recall de la clasificación: 0.9163\n",
            "Precisión de la clasificación: 0.8607\n",
            "F1-score de la clasificación: 0.8876\n",
            "AUC-ROC de la clasificación: 0.9167 \n",
            "(Métrica clave para desbalance)\n",
            "\n",
            "--- Matriz de Confusión ---\n",
            "[[4959 1588]\n",
            " [ 896 9810]]\n"
          ]
        }
      ]
    },
    {
      "cell_type": "code",
      "source": [
        "print(\"\\n--- Matriz de Confusión ---\")\n",
        "print(\"La matriz se interpreta como: \\n[[TN, FP], \\n[FN, TP]]\")\n",
        "print(conf_matrix)"
      ],
      "metadata": {
        "colab": {
          "base_uri": "https://localhost:8080/"
        },
        "id": "nN3HeuJARvnN",
        "outputId": "6b388de7-3084-47c5-f41b-875e7200a6e6"
      },
      "execution_count": 10,
      "outputs": [
        {
          "output_type": "stream",
          "name": "stdout",
          "text": [
            "\n",
            "--- Matriz de Confusión ---\n",
            "La matriz se interpreta como: \n",
            "[[TN, FP], \n",
            "[FN, TP]]\n",
            "[[4959 1588]\n",
            " [ 896 9810]]\n"
          ]
        }
      ]
    },
    {
      "cell_type": "markdown",
      "source": [
        "# Regresión logística SIN correl"
      ],
      "metadata": {
        "id": "TZCtAXZLPjB_"
      }
    },
    {
      "cell_type": "code",
      "source": [
        "\n",
        "model_short = LogisticRegression(penalty=None, max_iter=5000)\n",
        "\n",
        "model_short.fit(X_train_short, y_train)\n",
        "\n",
        "y_pred_short = model_short.predict(X_test_short)\n",
        "\n",
        "# Predicción de probabilidades para la clase positiva (necesaria para AUC-ROC)\n",
        "y_pred_proba_short = model_short.predict_proba(X_test_short)[:, 1]\n",
        "\n",
        "\n",
        "accuracy_short = accuracy_score(y_test, y_pred_short)\n",
        "recall_short = recall_score(y_test, y_pred_short)\n",
        "precision_short = precision_score(y_test, y_pred_short)\n",
        "f1_short = f1_score(y_test, y_pred_short)\n",
        "\n",
        "# Matriz de Confusión (usando y_pred)\n",
        "conf_matrix_short = confusion_matrix(y_test, y_pred_short)\n",
        "\n",
        "# Métrica de Probabilidad (usando y_pred_proba)\n",
        "auc_roc_short = roc_auc_score(y_test, y_pred_proba_short)\n",
        "\n",
        "print(\"--- Evaluación del Modelo ---\")\n",
        "print(f\"Accuracy_short de la clasificación: {accuracy_short:.4f}\")\n",
        "print(f\"Recall_short de la clasificación: {recall_short:.4f}\")\n",
        "print(f\"Precisión_short de la clasificación: {precision_short:.4f}\")\n",
        "print(f\"F1-score _short de la clasificación: {f1_short:.4f}\")\n",
        "print(f\"AUC-ROC _short de la clasificación: {auc_roc_short:.4f} \\n(Métrica clave para desbalance)\")\n",
        "\n",
        "print(\"\\n--- Matriz de Confusión  _short---\")\n",
        "print(\"La matriz se interpreta como: [[TN, FP], \\n[FN, TP]]\")\n",
        "print(conf_matrix_short)"
      ],
      "metadata": {
        "colab": {
          "base_uri": "https://localhost:8080/"
        },
        "id": "7mmt5U0HPlzC",
        "outputId": "e491fd10-1bed-48bc-99c7-34a6365e6d6d"
      },
      "execution_count": 8,
      "outputs": [
        {
          "output_type": "stream",
          "name": "stdout",
          "text": [
            "--- Evaluación del Modelo ---\n",
            "Accuracy_short de la clasificación: 0.8428\n",
            "Recall_short de la clasificación: 0.9063\n",
            "Precisión_short de la clasificación: 0.8502\n",
            "F1-score _short de la clasificación: 0.8774\n",
            "AUC-ROC _short de la clasificación: 0.9066 \n",
            "(Métrica clave para desbalance)\n",
            "\n",
            "--- Matriz de Confusión  _short---\n",
            "La matriz se interpreta como: [[TN, FP], \n",
            "[FN, TP]]\n",
            "[[4838 1709]\n",
            " [1003 9703]]\n"
          ]
        }
      ]
    },
    {
      "cell_type": "code",
      "source": [
        "print(\"\\n--- Matriz de Confusión  _short---\")\n",
        "print(\"La matriz se interpreta como: \\n[[TN, FP], \\n[FN, TP]]\")\n",
        "print(conf_matrix_short)"
      ],
      "metadata": {
        "colab": {
          "base_uri": "https://localhost:8080/"
        },
        "id": "eOBplxJdRpBc",
        "outputId": "27d014f1-776e-40ba-d66f-2cb75115dd5b"
      },
      "execution_count": 9,
      "outputs": [
        {
          "output_type": "stream",
          "name": "stdout",
          "text": [
            "\n",
            "--- Matriz de Confusión  _short---\n",
            "La matriz se interpreta como: \n",
            "[[TN, FP], \n",
            "[FN, TP]]\n",
            "[[4838 1709]\n",
            " [1003 9703]]\n"
          ]
        }
      ]
    },
    {
      "cell_type": "code",
      "source": [],
      "metadata": {
        "id": "AkVCayC3RrbS"
      },
      "execution_count": null,
      "outputs": []
    }
  ]
}